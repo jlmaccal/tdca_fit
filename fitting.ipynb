{
 "cells": [
  {
   "cell_type": "code",
   "execution_count": 213,
   "metadata": {
    "collapsed": true
   },
   "outputs": [],
   "source": [
    "import pandas as pd\n",
    "from matplotlib import pyplot as pp\n",
    "import numpy as np\n",
    "from scipy.optimize import curve_fit\n",
    "%matplotlib inline"
   ]
  },
  {
   "cell_type": "markdown",
   "metadata": {},
   "source": [
    "# Constants\n",
    "\n",
    "Some constants we'll use in other places."
   ]
  },
  {
   "cell_type": "code",
   "execution_count": 214,
   "metadata": {
    "collapsed": true
   },
   "outputs": [],
   "source": [
    "R = 8.314e-3    # gas constant\n",
    "T0 = 273.15     # convert celcius to K"
   ]
  },
  {
   "cell_type": "markdown",
   "metadata": {},
   "source": [
    "# Data Munging\n",
    "\n",
    "Load all of the data in and compute mean and standard deviation across temperature."
   ]
  },
  {
   "cell_type": "code",
   "execution_count": 215,
   "metadata": {
    "collapsed": false
   },
   "outputs": [],
   "source": [
    "data = pd.read_excel('data.xlsx', names=['temp', 'wspr1', 'wspr2', 'wspr3', 'tdca1', 'tdca2', 'tdca3'])"
   ]
  },
  {
   "cell_type": "code",
   "execution_count": 216,
   "metadata": {
    "collapsed": false
   },
   "outputs": [],
   "source": [
    "data['wspr_mean'] = data[['wspr1', 'wspr2', 'wspr3']].mean(axis=1)\n",
    "data['wspr_std'] = data[['wspr1', 'wspr2', 'wspr3']].std(axis=1)\n",
    "data['tdca_mean'] = data[['tdca1', 'tdca2', 'tdca3']].mean(axis=1)\n",
    "data['tdca_std'] = data[['tdca1', 'tdca2', 'tdca3']].std(axis=1)\n",
    "data['temp'] = data['temp'] + T0\n",
    "\n",
    "wspr_data = data[['temp', 'wspr_mean', 'wspr_std']].dropna()\n",
    "wspr_data.columns = ['temp', 'mean', 'std']\n",
    "tdca_data = data[['temp', 'tdca_mean', 'tdca_std']].dropna()\n",
    "tdca_data.columns = ['temp', 'mean', 'std']"
   ]
  },
  {
   "cell_type": "code",
   "execution_count": 217,
   "metadata": {
    "collapsed": false
   },
   "outputs": [
    {
     "data": {
      "text/html": [
       "<div>\n",
       "<table border=\"1\" class=\"dataframe\">\n",
       "  <thead>\n",
       "    <tr style=\"text-align: right;\">\n",
       "      <th></th>\n",
       "      <th>temp</th>\n",
       "      <th>mean</th>\n",
       "      <th>std</th>\n",
       "    </tr>\n",
       "  </thead>\n",
       "  <tbody>\n",
       "    <tr>\n",
       "      <th>0</th>\n",
       "      <td>298.15</td>\n",
       "      <td>0.004425</td>\n",
       "      <td>0.000581</td>\n",
       "    </tr>\n",
       "    <tr>\n",
       "      <th>1</th>\n",
       "      <td>302.15</td>\n",
       "      <td>0.005777</td>\n",
       "      <td>0.000013</td>\n",
       "    </tr>\n",
       "    <tr>\n",
       "      <th>2</th>\n",
       "      <td>304.15</td>\n",
       "      <td>0.007651</td>\n",
       "      <td>0.000469</td>\n",
       "    </tr>\n",
       "    <tr>\n",
       "      <th>3</th>\n",
       "      <td>306.15</td>\n",
       "      <td>0.007575</td>\n",
       "      <td>0.000135</td>\n",
       "    </tr>\n",
       "    <tr>\n",
       "      <th>4</th>\n",
       "      <td>308.15</td>\n",
       "      <td>0.008852</td>\n",
       "      <td>0.000396</td>\n",
       "    </tr>\n",
       "    <tr>\n",
       "      <th>5</th>\n",
       "      <td>310.15</td>\n",
       "      <td>0.010203</td>\n",
       "      <td>0.000570</td>\n",
       "    </tr>\n",
       "    <tr>\n",
       "      <th>6</th>\n",
       "      <td>312.15</td>\n",
       "      <td>0.004513</td>\n",
       "      <td>0.000808</td>\n",
       "    </tr>\n",
       "    <tr>\n",
       "      <th>8</th>\n",
       "      <td>314.15</td>\n",
       "      <td>0.000297</td>\n",
       "      <td>0.000131</td>\n",
       "    </tr>\n",
       "  </tbody>\n",
       "</table>\n",
       "</div>"
      ],
      "text/plain": [
       "     temp      mean       std\n",
       "0  298.15  0.004425  0.000581\n",
       "1  302.15  0.005777  0.000013\n",
       "2  304.15  0.007651  0.000469\n",
       "3  306.15  0.007575  0.000135\n",
       "4  308.15  0.008852  0.000396\n",
       "5  310.15  0.010203  0.000570\n",
       "6  312.15  0.004513  0.000808\n",
       "8  314.15  0.000297  0.000131"
      ]
     },
     "execution_count": 217,
     "metadata": {},
     "output_type": "execute_result"
    }
   ],
   "source": [
    "wspr_data"
   ]
  },
  {
   "cell_type": "code",
   "execution_count": 218,
   "metadata": {
    "collapsed": false
   },
   "outputs": [
    {
     "data": {
      "image/png": "[encoded data removed]",
      "text/plain": [
       "<matplotlib.figure.Figure at 0x122fc5d50>"
      ]
     },
     "metadata": {},
     "output_type": "display_data"
    }
   ],
   "source": [
    "pp.errorbar(wspr_data['temp'], wspr_data['mean'], yerr=wspr_data['std'], linestyle='none', marker='o', color='red');\n",
    "pp.errorbar(tdca_data['temp'], tdca_data['mean'], yerr=tdca_data['std'], linestyle='none', marker='o', color='blue');"
   ]
  },
  {
   "cell_type": "markdown",
   "metadata": {},
   "source": [
    "# Drop Data\n",
    "\n",
    "For WspR, we're going to drop the data over 310K, as the rate starts to drop"
   ]
  },
  {
   "cell_type": "code",
   "execution_count": 219,
   "metadata": {
    "collapsed": false,
    "scrolled": true
   },
   "outputs": [],
   "source": [
    "wspr_data = wspr_data[wspr_data['temp'] < 310]"
   ]
  },
  {
   "cell_type": "markdown",
   "metadata": {},
   "source": [
    "# Models\n",
    "\n",
    "## Arrhenius Model\n",
    "\n",
    "Our first model is the Arrhenius equation:\n",
    "\n",
    "\\begin{equation}\n",
    "r = A \\exp\\left[ \\frac{-E_a}{RT}\\right],\n",
    "\\end{equation}\n",
    "\n",
    "where $E_a$ is the activation energy and $A$ is the pre-exponential factor."
   ]
  },
  {
   "cell_type": "code",
   "execution_count": 220,
   "metadata": {
    "collapsed": true
   },
   "outputs": [],
   "source": [
    "def arrhenius(T, A, Ea):\n",
    "    return A * np.exp(-Ea / R / T)"
   ]
  },
  {
   "cell_type": "markdown",
   "metadata": {},
   "source": [
    "### WspR"
   ]
  },
  {
   "cell_type": "code",
   "execution_count": 221,
   "metadata": {
    "collapsed": false
   },
   "outputs": [],
   "source": [
    "wspr_arr_parm, wspr_arr_cov = curve_fit(arrhenius, xdata=wspr_data['temp'], ydata=wspr_data['mean'], \n",
    "                              sigma=wspr_data['std'], p0=[1e6, 50.0])"
   ]
  },
  {
   "cell_type": "markdown",
   "metadata": {},
   "source": [
    "So, our fit $A=$"
   ]
  },
  {
   "cell_type": "code",
   "execution_count": 222,
   "metadata": {
    "collapsed": false
   },
   "outputs": [
    {
     "data": {
      "text/plain": [
       "10206527.623360757"
      ]
     },
     "execution_count": 222,
     "metadata": {},
     "output_type": "execute_result"
    }
   ],
   "source": [
    "wspr_arr_parm[0]"
   ]
  },
  {
   "cell_type": "markdown",
   "metadata": {},
   "source": [
    "and our fit $E_a=$"
   ]
  },
  {
   "cell_type": "code",
   "execution_count": 223,
   "metadata": {
    "collapsed": false
   },
   "outputs": [
    {
     "data": {
      "text/plain": [
       "53.488126099286887"
      ]
     },
     "execution_count": 223,
     "metadata": {},
     "output_type": "execute_result"
    }
   ],
   "source": [
    "wspr_arr_parm[1]"
   ]
  },
  {
   "cell_type": "markdown",
   "metadata": {},
   "source": [
    "### TdcA"
   ]
  },
  {
   "cell_type": "code",
   "execution_count": 224,
   "metadata": {
    "collapsed": false
   },
   "outputs": [],
   "source": [
    "tdca_arr_parm, tdca_arr_cov = curve_fit(arrhenius, xdata=tdca_data['temp'], ydata=tdca_data['mean'], \n",
    "                              sigma=tdca_data['std'], p0=[1e15, 150.0])"
   ]
  },
  {
   "cell_type": "markdown",
   "metadata": {},
   "source": [
    "So, our fit $A=$"
   ]
  },
  {
   "cell_type": "code",
   "execution_count": 225,
   "metadata": {
    "collapsed": false
   },
   "outputs": [
    {
     "data": {
      "text/plain": [
       "1.8564242678186216e+24"
      ]
     },
     "execution_count": 225,
     "metadata": {},
     "output_type": "execute_result"
    }
   ],
   "source": [
    "tdca_arr_parm[0]"
   ]
  },
  {
   "cell_type": "markdown",
   "metadata": {},
   "source": [
    "and our fit $E_a=$"
   ]
  },
  {
   "cell_type": "code",
   "execution_count": 226,
   "metadata": {
    "collapsed": false
   },
   "outputs": [
    {
     "data": {
      "text/plain": [
       "156.69284558297679"
      ]
     },
     "execution_count": 226,
     "metadata": {},
     "output_type": "execute_result"
    }
   ],
   "source": [
    "tdca_arr_parm[1]"
   ]
  },
  {
   "cell_type": "markdown",
   "metadata": {},
   "source": [
    "### Summary\n",
    "\n",
    "| Enzyme | $A$ | $E_a$ |\n",
    "|--------|-----|-------|\n",
    "| WspR   | 1e6 | 53.5  |\n",
    "| TdcA   | 2e24| 156.7 |\n",
    "\n",
    "The numbers for WspR seem reasonable, while TdcA values seem too high."
   ]
  },
  {
   "cell_type": "code",
   "execution_count": 227,
   "metadata": {
    "collapsed": false
   },
   "outputs": [
    {
     "data": {
      "image/png": "[encoded data removed]",
      "text/plain": [
       "<matplotlib.figure.Figure at 0x122b6d790>"
      ]
     },
     "metadata": {},
     "output_type": "display_data"
    }
   ],
   "source": [
    "pp.errorbar(wspr_data['temp'], wspr_data['mean'], yerr=wspr_data['std'], linestyle='none', marker='o', color='red');\n",
    "pp.plot(wspr_data['temp'], arrhenius(wspr_data['temp'], wspr_arr_parm[0], wspr_arr_parm[1]), color='red');\n",
    "\n",
    "pp.errorbar(tdca_data['temp'], tdca_data['mean'], yerr=tdca_data['std'], linestyle='none', marker='o', color='blue');\n",
    "pp.plot(tdca_data['temp'], arrhenius(tdca_data['temp'], tdca_arr_parm[0], tdca_arr_parm[1]), color='blue');"
   ]
  },
  {
   "cell_type": "markdown",
   "metadata": {},
   "source": [
    "## Two State Model\n",
    "\n",
    "In this model, we assume that there are two states, active and inactive, with a difference in enthalpy and entropy. We further assume that the reaction rate of the inactive state is zero and that of the active state is independent of temperature.\n",
    "\n",
    "\\begin{equation}\n",
    "r = A f_{active},\n",
    "\\end{equation}\n",
    "\n",
    "where\n",
    "\n",
    "\\begin{equation}\n",
    "f_{active} = \\frac{\\exp \\left[ \\Delta S / R \\right] \\exp \\left[-\\Delta H / (RT) \\right]}\n",
    "                  {1 + \\exp \\left[ \\Delta S / R \\right] \\exp \\left[-\\Delta H / (RT) \\right] }\n",
    "\\end{equation}"
   ]
  },
  {
   "cell_type": "code",
   "execution_count": 234,
   "metadata": {
    "collapsed": true
   },
   "outputs": [],
   "source": [
    "def two_state(T, A, dH, dS):\n",
    "    RT = R * T\n",
    "    p_inactive = 1.0\n",
    "    p_active = np.exp(dS / R) * np.exp(-dH / RT)\n",
    "    return A * p_active / (p_inactive + p_active)"
   ]
  },
  {
   "cell_type": "code",
   "execution_count": 342,
   "metadata": {
    "collapsed": false
   },
   "outputs": [],
   "source": [
    "tdca_ts_parm, tdca_ts_cov = curve_fit(two_state, xdata=tdca_data['temp'], ydata=tdca_data['mean'], \n",
    "                                      sigma=tdca_data['std'], p0=[0.04, 200, 0.6], maxfev=10000)"
   ]
  },
  {
   "cell_type": "markdown",
   "metadata": {},
   "source": [
    "This gives a reaction rate $A=$"
   ]
  },
  {
   "cell_type": "code",
   "execution_count": 343,
   "metadata": {
    "collapsed": false
   },
   "outputs": [
    {
     "data": {
      "text/plain": [
       "0.068289648432055011"
      ]
     },
     "execution_count": 343,
     "metadata": {},
     "output_type": "execute_result"
    }
   ],
   "source": [
    "tdca_ts_parm[0]"
   ]
  },
  {
   "cell_type": "markdown",
   "metadata": {},
   "source": [
    "and an enthalpy difference of $\\Delta H=$"
   ]
  },
  {
   "cell_type": "code",
   "execution_count": 344,
   "metadata": {
    "collapsed": false
   },
   "outputs": [
    {
     "data": {
      "text/plain": [
       "195.28837433944915"
      ]
     },
     "execution_count": 344,
     "metadata": {},
     "output_type": "execute_result"
    }
   ],
   "source": [
    "tdca_ts_parm[1]"
   ]
  },
  {
   "cell_type": "markdown",
   "metadata": {},
   "source": [
    "in units of kJ/mol."
   ]
  },
  {
   "cell_type": "markdown",
   "metadata": {},
   "source": [
    "It gives an entropy difference of $\\Delta S=$"
   ]
  },
  {
   "cell_type": "code",
   "execution_count": 345,
   "metadata": {
    "collapsed": false
   },
   "outputs": [
    {
     "data": {
      "text/plain": [
       "0.61309413832283166"
      ]
     },
     "execution_count": 345,
     "metadata": {},
     "output_type": "execute_result"
    }
   ],
   "source": [
    "tdca_ts_parm[2]"
   ]
  },
  {
   "cell_type": "markdown",
   "metadata": {},
   "source": [
    "in units of kJ / mol / K."
   ]
  },
  {
   "cell_type": "code",
   "execution_count": 346,
   "metadata": {
    "collapsed": false
   },
   "outputs": [
    {
     "data": {
      "image/png": "[encoded data removed]",
      "text/plain": [
       "<matplotlib.figure.Figure at 0x1287e76d0>"
      ]
     },
     "metadata": {},
     "output_type": "display_data"
    }
   ],
   "source": [
    "t = np.linspace(295, 330, 100)\n",
    "pp.errorbar(tdca_data['temp'], tdca_data['mean'], yerr=tdca_data['std'], linestyle='none', marker='o', color='blue');\n",
    "pp.plot(t, two_state(t, tdca_ts_parm[0], tdca_ts_parm[1], tdca_ts_parm[2]), color='blue');"
   ]
  },
  {
   "cell_type": "markdown",
   "metadata": {},
   "source": [
    "## Summary\n",
    "\n",
    "Overall, this fits quite well, but it appears like TdcA is only about half-active at the maximum temperature measured, which seems a bit odd."
   ]
  },
  {
   "cell_type": "markdown",
   "metadata": {},
   "source": [
    "## Two State + Arrhenius Model\n",
    "\n",
    "For our final model, we combine the two.\n",
    "\n",
    "\\begin{equation}\n",
    "r = f_{active} A \\exp \\left[ -E_a / (RT) \\right],\n",
    "\\end{equation}\n",
    "\n",
    "with $f_{active}$ defined as above.\n"
   ]
  },
  {
   "cell_type": "code",
   "execution_count": 347,
   "metadata": {
    "collapsed": true
   },
   "outputs": [],
   "source": [
    "def combined(T, A, Ea, dH, dS):\n",
    "    RT = R * T\n",
    "    r = A * np.exp(-Ea / RT)\n",
    "    p_inactive = 1.0\n",
    "    p_active = np.exp(dS / R) * np.exp(-dH / RT)\n",
    "    return r * p_active / (p_inactive + p_active)"
   ]
  },
  {
   "cell_type": "code",
   "execution_count": 348,
   "metadata": {
    "collapsed": false
   },
   "outputs": [],
   "source": [
    "tdca_combined_parm, tdca_combined_cov = curve_fit(combined, xdata=tdca_data['temp'], ydata=tdca_data['mean'], \n",
    "                                                  p0=[0.07, 10, 200, 0.6], \n",
    "                                                  bounds=([0, 0, -250, -1], [1, 50, 250, 1]))"
   ]
  },
  {
   "cell_type": "code",
   "execution_count": 349,
   "metadata": {
    "collapsed": false
   },
   "outputs": [
    {
     "data": {
      "text/plain": [
       "array([  4.91021429e-02,   5.66501727e-02,   2.08914548e+02,\n",
       "         6.60773537e-01])"
      ]
     },
     "execution_count": 349,
     "metadata": {},
     "output_type": "execute_result"
    }
   ],
   "source": [
    "tdca_combined_parm"
   ]
  },
  {
   "cell_type": "code",
   "execution_count": 350,
   "metadata": {
    "collapsed": false
   },
   "outputs": [
    {
     "data": {
      "text/plain": [
       "[<matplotlib.lines.Line2D at 0x1292371d0>]"
      ]
     },
     "execution_count": 350,
     "metadata": {},
     "output_type": "execute_result"
    },
    {
     "data": {
      "image/png": "[encoded data removed]",
      "text/plain": [
       "<matplotlib.figure.Figure at 0x129237210>"
      ]
     },
     "metadata": {},
     "output_type": "display_data"
    }
   ],
   "source": [
    "pp.errorbar(tdca_data['temp'], tdca_data['mean'], yerr=tdca_data['std'], linestyle='none', marker='o', color='blue');\n",
    "pp.plot(t, combined(t, *tdca_combined_parm), color='blue')"
   ]
  },
  {
   "cell_type": "markdown",
   "metadata": {},
   "source": [
    "## Summary\n",
    "\n",
    "This model fits about as well as the two-state model.\n",
    "\n",
    "The parameters are:\n",
    "\n",
    "$A = 4.9e-2$\n",
    "\n",
    "$E_a = 0.06 kJ / mol$\n",
    "\n",
    "$\\Delta H = 208.9 kJ / mol$\n",
    "\n",
    "$\\Delta S = 0.66 kJ / mol / K$\n"
   ]
  },
  {
   "cell_type": "markdown",
   "metadata": {},
   "source": [
    "## Two-state + WspR Arrhenius\n",
    "\n",
    "The last model will be the two-state model, but with the temperature dependence of WspR.\n",
    "\n",
    "\\begin{equation}\n",
    "r = s \\exp \\left[-E_{a, WspR} / (RT) \\right] f_{active}\n",
    "\\end{equation}\n",
    "\n",
    "where $s$ is a scaling parameter."
   ]
  },
  {
   "cell_type": "code",
   "execution_count": 351,
   "metadata": {
    "collapsed": true
   },
   "outputs": [],
   "source": [
    "def combined2(T, s, dH, dS):\n",
    "    RT = R * T\n",
    "    r = wspr_arr_parm[0] * np.exp(-wspr_arr_parm[1] / RT)\n",
    "    p_inactive = 1.0\n",
    "    p_active = np.exp(dS / R) * np.exp(-dH / RT)\n",
    "    return s * r * p_active / (p_inactive + p_active)"
   ]
  },
  {
   "cell_type": "code",
   "execution_count": 354,
   "metadata": {
    "collapsed": false
   },
   "outputs": [],
   "source": [
    "tdca_combined2_parm, tdca_2combined_cov = curve_fit(combined2, xdata=tdca_data['temp'], ydata=tdca_data['mean'], \n",
    "                                                    p0=[1, 200, 0.6])"
   ]
  },
  {
   "cell_type": "code",
   "execution_count": 355,
   "metadata": {
    "collapsed": false
   },
   "outputs": [
    {
     "data": {
      "text/plain": [
       "array([   2.21314584,  192.10910737,    0.61570768])"
      ]
     },
     "execution_count": 355,
     "metadata": {},
     "output_type": "execute_result"
    }
   ],
   "source": [
    "tdca_combined2_parm"
   ]
  },
  {
   "cell_type": "code",
   "execution_count": 357,
   "metadata": {
    "collapsed": false
   },
   "outputs": [
    {
     "data": {
      "text/plain": [
       "[<matplotlib.lines.Line2D at 0x129454090>]"
      ]
     },
     "execution_count": 357,
     "metadata": {},
     "output_type": "execute_result"
    },
    {
     "data": {
      "image/png": "[encoded data removed]",
      "text/plain": [
       "<matplotlib.figure.Figure at 0x1294540d0>"
      ]
     },
     "metadata": {},
     "output_type": "display_data"
    }
   ],
   "source": [
    "pp.errorbar(tdca_data['temp'], tdca_data['mean'], yerr=tdca_data['std'], linestyle='none', marker='o', color='blue');\n",
    "pp.plot(t, combined2(t, *tdca_combined2_parm), color='blue')"
   ]
  },
  {
   "cell_type": "markdown",
   "metadata": {},
   "source": [
    "### Summary\n",
    "\n",
    "This fits about as well as everything else, with\n",
    "\n",
    "$\\Delta H = 192.1 kJ / mol$\n",
    "\n",
    "$\\Delta S = 0.61 kJ / mol / K$"
   ]
  },
  {
   "cell_type": "markdown",
   "metadata": {},
   "source": [
    "# Overall Summary\n",
    "\n",
    "All of the models fit the available data relative well. It would be very useful to get more data at slightly higher temperatures, as the various two-state models predict a plateau, while the Arrhenius model will keep increasing. Of course, this is highly dependent on the ability to carry out the assay at such higher temperatures.\n",
    "\n",
    "The two-state model predicts a characteristic DSC curve, so DSC may provide evidence for or against this model.\n",
    "\n",
    "Overall, the activation energies and pre-exponential factors seem too high for Arrhenius fits of TdcA. The enthalpy and entropy differences are also large for the two-state models, but these might make sense for some sort of conformational change. In either case, the T-dependence of TdcA is quite unique."
   ]
  },
  {
   "cell_type": "code",
   "execution_count": null,
   "metadata": {
    "collapsed": true
   },
   "outputs": [],
   "source": []
  }
 ],
 "metadata": {
  "anaconda-cloud": {},
  "kernelspec": {
   "display_name": "Python [default]",
   "language": "python",
   "name": "python2"
  },
  "language_info": {
   "codemirror_mode": {
    "name": "ipython",
    "version": 2
   },
   "file_extension": ".py",
   "mimetype": "text/x-python",
   "name": "python",
   "nbconvert_exporter": "python",
   "pygments_lexer": "ipython2",
   "version": "2.7.12"
  }
 },
 "nbformat": 4,
 "nbformat_minor": 1
}
